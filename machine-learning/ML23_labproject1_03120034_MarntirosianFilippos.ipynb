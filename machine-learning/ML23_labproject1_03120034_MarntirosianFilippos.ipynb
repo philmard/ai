{
 "cells": [
  {
   "cell_type": "markdown",
   "metadata": {
    "id": "Dv7UKdyCAnqD"
   },
   "source": [
    "### Μηχανική Μάθηση\n",
    "#### 1η ατομική εργασία\n",
    "ΣΗΜΜΥ- ΕΜΠ -Ακ. Έτος 2023-24\n",
    "\n"
   ]
  },
  {
   "cell_type": "markdown",
   "metadata": {
    "id": "oAx-ib_pBrq9"
   },
   "source": [
    "Ονοματεπώνυμο φοιτητή: Φίλιππος Μαρντιροσιάν\n",
    "\n",
    "Α.Μ.: el20034"
   ]
  },
  {
   "cell_type": "markdown",
   "metadata": {
    "id": "M7IkqlgaGLr2"
   },
   "source": [
    "### 1. Εισαγωγή συνόλου δεδομένων\n",
    "\n",
    "Tο σύνολο δεδομένων για το training-validation μπορείτε να το κατεβάσετε από [εδώ](https://drive.google.com/file/d/1_ndkaT6BoDuxxPPxLWq-oKDJqzO1Dlhg/view?usp=sharing) .\n"
   ]
  },
  {
   "cell_type": "markdown",
   "metadata": {
    "id": "Qe4uFFcv9XF3"
   },
   "source": [
    "1.α. Φορτώστε το σύνολο δεδομένων \"train-val.csv\"  στο notebook σας."
   ]
  },
  {
   "cell_type": "code",
   "execution_count": 76,
   "metadata": {
    "id": "fbQtw6iYBrJk"
   },
   "outputs": [],
   "source": [
    "import pandas as pd\n",
    "import numpy as np\n",
    "df = pd.read_csv('train-val.csv')"
   ]
  },
  {
   "cell_type": "markdown",
   "metadata": {
    "id": "wrxF1hO1HPpJ"
   },
   "source": [
    "### 2. Διερευνητική ανάλυση δεδομένων -Exploratory Data Analysis (EDA)\n",
    "Χρησιμοποιήστε code cells  με τις κατάλληλες τεχνικές EDA για την κατανόηση του συνόλου δεδομένων και text cells για επεξήγηση των αποτελεσμάτων."
   ]
  },
  {
   "cell_type": "markdown",
   "metadata": {
    "id": "fT33H0HPJ7Hg"
   },
   "source": [
    "Χρησιμοποιώντας τις κατάλληλες μεθόδους παρουσιάστε με χρήση κώδικα πληροφορίες για τα εξής:\n",
    "\n",
    "2α. το πλήθος των δειγμάτων και των χαρακτηριστικών του συνόλου δεδομένων,\n",
    "\n",
    "2β. το είδος των χαρακτηριστικών του συνόλου δεδομένων,  \n",
    "\n",
    "2γ. τις ετικέτες των χαρακτηριστικών,\n",
    "\n",
    "2δ. το πλήθος των κατηγοριών,\n",
    "\n",
    "2ε. πόσα δείγματα ανήκουν σε κάθε κατηγορία,\n",
    "\n",
    "2στ. τη συσχέτιση μεταξύ των δεδομένων,\n",
    "\n",
    "2ζ. οποιαδήποτε άλλη πληροφορία πιστεύετε ότι είναι χρήσιμη για την κατανόηση του συνόλου δεδομένων."
   ]
  },
  {
   "cell_type": "code",
   "execution_count": 77,
   "metadata": {
    "id": "dnd0K49PNK1T"
   },
   "outputs": [
    {
     "name": "stdout",
     "output_type": "stream",
     "text": [
      "Πλήθος Δειγμάτων: 48423\n",
      "Πλήθος Χαρακτηριστικών: 24\n"
     ]
    }
   ],
   "source": [
    "# 2a. το πλήθος των δειγμάτων και των χαρακτηριστικών του συνόλου δεδομένων\n",
    "num_samples, num_features = df.shape\n",
    "print(f\"Πλήθος Δειγμάτων: {num_samples}\")\n",
    "print(f\"Πλήθος Χαρακτηριστικών: {num_features}\")"
   ]
  },
  {
   "cell_type": "code",
   "execution_count": 78,
   "metadata": {
    "id": "dnd0K49PNK1T"
   },
   "outputs": [
    {
     "name": "stdout",
     "output_type": "stream",
     "text": [
      "Είδος Χαρακτηριστικού:\n",
      "id                 int64\n",
      "Date              object\n",
      "Location          object\n",
      "MinTemp          float64\n",
      "MaxTemp          float64\n",
      "Rainfall         float64\n",
      "Evaporation      float64\n",
      "Sunshine         float64\n",
      "WindGustDir       object\n",
      "WindGustSpeed    float64\n",
      "WindDir9am        object\n",
      "WindDir3pm        object\n",
      "WindSpeed9am     float64\n",
      "WindSpeed3pm     float64\n",
      "Humidity9am      float64\n",
      "Humidity3pm      float64\n",
      "Pressure9am      float64\n",
      "Pressure3pm      float64\n",
      "Cloud9am         float64\n",
      "Cloud3pm         float64\n",
      "Temp9am          float64\n",
      "Temp3pm          float64\n",
      "RainToday          int64\n",
      "RainTomorrow       int64\n",
      "dtype: object\n"
     ]
    }
   ],
   "source": [
    "# 2β. το είδος των χαρακτηριστικών του συνόλου δεδομένων\n",
    "feature_types = df.dtypes\n",
    "print(\"Είδος Χαρακτηριστικού:\")\n",
    "print(feature_types)"
   ]
  },
  {
   "cell_type": "code",
   "execution_count": 79,
   "metadata": {
    "id": "dnd0K49PNK1T"
   },
   "outputs": [
    {
     "name": "stdout",
     "output_type": "stream",
     "text": [
      "Ετικέτες Χαρακτηριστικών:\n",
      "Index(['id', 'Date', 'Location', 'MinTemp', 'MaxTemp', 'Rainfall',\n",
      "       'Evaporation', 'Sunshine', 'WindGustDir', 'WindGustSpeed', 'WindDir9am',\n",
      "       'WindDir3pm', 'WindSpeed9am', 'WindSpeed3pm', 'Humidity9am',\n",
      "       'Humidity3pm', 'Pressure9am', 'Pressure3pm', 'Cloud9am', 'Cloud3pm',\n",
      "       'Temp9am', 'Temp3pm', 'RainToday', 'RainTomorrow'],\n",
      "      dtype='object')\n"
     ]
    }
   ],
   "source": [
    "# 2γ. τις ετικέτες των χαρακτηριστικών\n",
    "feature_labels = df.columns\n",
    "print(\"Ετικέτες Χαρακτηριστικών:\")\n",
    "print(feature_labels)"
   ]
  },
  {
   "cell_type": "code",
   "execution_count": 80,
   "metadata": {},
   "outputs": [
    {
     "name": "stdout",
     "output_type": "stream",
     "text": [
      "Πλήθος Κατηγοριών ανά Χαρακτηριστικό:\n",
      "id               48423\n",
      "Date              2534\n",
      "Location            49\n",
      "MinTemp            364\n",
      "MaxTemp            456\n",
      "Rainfall           443\n",
      "Evaporation        231\n",
      "Sunshine           140\n",
      "WindGustDir         16\n",
      "WindGustSpeed       61\n",
      "WindDir9am          16\n",
      "WindDir3pm          16\n",
      "WindSpeed9am        40\n",
      "WindSpeed3pm        42\n",
      "Humidity9am        101\n",
      "Humidity3pm        101\n",
      "Pressure9am        508\n",
      "Pressure3pm        497\n",
      "Cloud9am            10\n",
      "Cloud3pm             9\n",
      "Temp9am            396\n",
      "Temp3pm            452\n",
      "RainToday            2\n",
      "RainTomorrow         2\n",
      "dtype: int64\n"
     ]
    }
   ],
   "source": [
    "# 2δ. το πλήθος των κατηγοριών\n",
    "category_counts = df.nunique() # ποσα unique στοιχεια υπάρχουν στην κάθε στήλη\n",
    "print(\"Πλήθος Κατηγοριών ανά Χαρακτηριστικό:\")\n",
    "print(category_counts)\n"
   ]
  },
  {
   "cell_type": "code",
   "execution_count": 81,
   "metadata": {},
   "outputs": [
    {
     "name": "stdout",
     "output_type": "stream",
     "text": [
      "Πλήθος Δειγμάτων ανά Κατηγορία για το Location:\n",
      "Location\n",
      "Sydney              1145\n",
      "Canberra            1136\n",
      "Darwin              1107\n",
      "Perth               1104\n",
      "MelbourneAirport    1099\n",
      "Brisbane            1098\n",
      "Hobart              1096\n",
      "Adelaide            1064\n",
      "Sale                1054\n",
      "MountGambier        1053\n",
      "Mildura             1048\n",
      "CoffsHarbour        1046\n",
      "PerthAirport        1044\n",
      "Woomera             1044\n",
      "Bendigo             1042\n",
      "Cobar               1038\n",
      "Wollongong          1034\n",
      "Cairns              1032\n",
      "SalmonGums          1031\n",
      "Townsville          1027\n",
      "Portland            1022\n",
      "Penrith             1021\n",
      "Dartmoor            1021\n",
      "Watsonia            1021\n",
      "SydneyAirport       1017\n",
      "Ballarat            1014\n",
      "WaggaWagga          1013\n",
      "Launceston          1011\n",
      "Newcastle           1007\n",
      "Witchcliffe         1004\n",
      "AliceSprings        1004\n",
      "Nuriootpa           1004\n",
      "Albany               999\n",
      "Tuggeranong          993\n",
      "NorahHead            991\n",
      "GoldCoast            987\n",
      "Albury               985\n",
      "Richmond             983\n",
      "NorfolkIsland        981\n",
      "BadgerysCreek        981\n",
      "MountGinini          971\n",
      "Moree                957\n",
      "Walpole              904\n",
      "PearceRAAF           881\n",
      "Melbourne            848\n",
      "Williamtown          821\n",
      "Katherine            579\n",
      "Nhil                 559\n",
      "Uluru                502\n",
      "Name: count, dtype: int64\n"
     ]
    }
   ],
   "source": [
    "# 2ε. πόσα δείγματα ανήκουν σε κάθε κατηγορία\n",
    "# [πχ παρακατω κανω για το Location]\n",
    "feature_name = 'Location'\n",
    "category_sample_counts = df[feature_name].value_counts()\n",
    "print(f\"Πλήθος Δειγμάτων ανά Κατηγορία για το {feature_name}:\")\n",
    "print(category_sample_counts)\n"
   ]
  },
  {
   "cell_type": "code",
   "execution_count": 7,
   "metadata": {},
   "outputs": [
    {
     "name": "stdout",
     "output_type": "stream",
     "text": [
      "\n",
      "Συσχέτιση μεταξύ Δεδομένων:\n",
      "                     id   MinTemp   MaxTemp  Rainfall  Evaporation  Sunshine  \\\n",
      "id             1.000000  0.104771  0.136331 -0.024047     0.096221  0.078911   \n",
      "MinTemp        0.104771  1.000000  0.715692  0.096510     0.457483  0.053477   \n",
      "MaxTemp        0.136331  0.715692  1.000000 -0.103864     0.586798  0.469859   \n",
      "Rainfall      -0.024047  0.096510 -0.103864  1.000000    -0.069284 -0.210261   \n",
      "Evaporation    0.096221  0.457483  0.586798 -0.069284     1.000000  0.351482   \n",
      "Sunshine       0.078911  0.053477  0.469859 -0.210261     0.351482  1.000000   \n",
      "WindGustSpeed  0.047488  0.163349  0.013580  0.160382     0.194751 -0.051283   \n",
      "WindSpeed9am   0.062482  0.193476  0.003229  0.102262     0.208774 -0.001514   \n",
      "WindSpeed3pm   0.040819  0.183079  0.054409  0.068231     0.154487  0.055941   \n",
      "Humidity9am   -0.129400 -0.232420 -0.485241  0.217506    -0.521304 -0.471021   \n",
      "Humidity3pm   -0.085483  0.021193 -0.504320  0.258283    -0.392778 -0.634892   \n",
      "Pressure9am   -0.104157 -0.372295 -0.224734 -0.178761    -0.226294  0.078309   \n",
      "Pressure3pm   -0.108251 -0.385832 -0.331614 -0.125762    -0.261228  0.010106   \n",
      "Cloud9am      -0.073085  0.071455 -0.304386  0.202290    -0.188185 -0.693561   \n",
      "Cloud3pm      -0.066481  0.006876 -0.305659  0.162473    -0.193911 -0.708928   \n",
      "Temp9am        0.139226  0.892621  0.881130 -0.007844     0.556079  0.286368   \n",
      "Temp3pm        0.120342  0.682041  0.984609 -0.108617     0.569842  0.492766   \n",
      "RainToday     -0.003840  0.065077 -0.247060  0.527639    -0.191368 -0.314345   \n",
      "RainTomorrow  -0.002691  0.084001 -0.177480  0.244867    -0.122146 -0.437883   \n",
      "\n",
      "               WindGustSpeed  WindSpeed9am  WindSpeed3pm  Humidity9am  \\\n",
      "id                  0.047488      0.062482      0.040819    -0.129400   \n",
      "MinTemp             0.163349      0.193476      0.183079    -0.232420   \n",
      "MaxTemp             0.013580      0.003229      0.054409    -0.485241   \n",
      "Rainfall            0.160382      0.102262      0.068231     0.217506   \n",
      "Evaporation         0.194751      0.208774      0.154487    -0.521304   \n",
      "Sunshine           -0.051283     -0.001514      0.055941    -0.471021   \n",
      "WindGustSpeed       1.000000      0.633542      0.715518    -0.214060   \n",
      "WindSpeed9am        0.633542      1.000000      0.541097    -0.289202   \n",
      "WindSpeed3pm        0.715518      0.541097      1.000000    -0.166434   \n",
      "Humidity9am        -0.214060     -0.289202     -0.166434     1.000000   \n",
      "Humidity3pm         0.004057     -0.019900     -0.003281     0.644709   \n",
      "Pressure9am        -0.485376     -0.266217     -0.327326     0.117477   \n",
      "Pressure3pm        -0.434426     -0.212422     -0.289712     0.167571   \n",
      "Cloud9am            0.086327      0.035081      0.048956     0.439629   \n",
      "Cloud3pm            0.125622      0.066148      0.032267     0.349397   \n",
      "Temp9am             0.123985      0.141875      0.169477    -0.472335   \n",
      "Temp3pm            -0.024427     -0.008063      0.030884    -0.478217   \n",
      "RainToday           0.188300      0.121898      0.097368     0.332583   \n",
      "RainTomorrow        0.258618      0.118477      0.109116     0.244048   \n",
      "\n",
      "               Humidity3pm  Pressure9am  Pressure3pm  Cloud9am  Cloud3pm  \\\n",
      "id               -0.085483    -0.104157    -0.108251 -0.073085 -0.066481   \n",
      "MinTemp           0.021193    -0.372295    -0.385832  0.071455  0.006876   \n",
      "MaxTemp          -0.504320    -0.224734    -0.331614 -0.304386 -0.305659   \n",
      "Rainfall          0.258283    -0.178761    -0.125762  0.202290  0.162473   \n",
      "Evaporation      -0.392778    -0.226294    -0.261228 -0.188185 -0.193911   \n",
      "Sunshine         -0.634892     0.078309     0.010106 -0.693561 -0.708928   \n",
      "WindGustSpeed     0.004057    -0.485376    -0.434426  0.086327  0.125622   \n",
      "WindSpeed9am     -0.019900    -0.266217    -0.212422  0.035081  0.066148   \n",
      "WindSpeed3pm     -0.003281    -0.327326    -0.289712  0.048956  0.032267   \n",
      "Humidity9am       0.644709     0.117477     0.167571  0.439629  0.349397   \n",
      "Humidity3pm       1.000000    -0.063572     0.019297  0.518187  0.536139   \n",
      "Pressure9am      -0.063572     1.000000     0.959218 -0.135572 -0.150569   \n",
      "Pressure3pm       0.019297     0.959218     1.000000 -0.065816 -0.082215   \n",
      "Cloud9am          0.518187    -0.135572    -0.065816  1.000000  0.609241   \n",
      "Cloud3pm          0.536139    -0.150569    -0.082215  0.609241  1.000000   \n",
      "Temp9am          -0.218612    -0.331612    -0.386751 -0.151065 -0.152008   \n",
      "Temp3pm          -0.556450    -0.175755    -0.289701 -0.315585 -0.347408   \n",
      "RainToday         0.375488    -0.216675    -0.121562  0.306448  0.262506   \n",
      "RainTomorrow      0.458234    -0.273063    -0.247978  0.322673  0.381305   \n",
      "\n",
      "                Temp9am   Temp3pm  RainToday  RainTomorrow  \n",
      "id             0.139226  0.120342  -0.003840     -0.002691  \n",
      "MinTemp        0.892621  0.682041   0.065077      0.084001  \n",
      "MaxTemp        0.881130  0.984609  -0.247060     -0.177480  \n",
      "Rainfall      -0.007844 -0.108617   0.527639      0.244867  \n",
      "Evaporation    0.556079  0.569842  -0.191368     -0.122146  \n",
      "Sunshine       0.286368  0.492766  -0.314345     -0.437883  \n",
      "WindGustSpeed  0.123985 -0.024427   0.188300      0.258618  \n",
      "WindSpeed9am   0.141875 -0.008063   0.121898      0.118477  \n",
      "WindSpeed3pm   0.169477  0.030884   0.097368      0.109116  \n",
      "Humidity9am   -0.472335 -0.478217   0.332583      0.244048  \n",
      "Humidity3pm   -0.218612 -0.556450   0.375488      0.458234  \n",
      "Pressure9am   -0.331612 -0.175755  -0.216675     -0.273063  \n",
      "Pressure3pm   -0.386751 -0.289701  -0.121562     -0.247978  \n",
      "Cloud9am      -0.151065 -0.315585   0.306448      0.322673  \n",
      "Cloud3pm      -0.152008 -0.347408   0.262506      0.381305  \n",
      "Temp9am        1.000000  0.850474  -0.100329     -0.034741  \n",
      "Temp3pm        0.850474  1.000000  -0.253352     -0.211749  \n",
      "RainToday     -0.100329 -0.253352   1.000000      0.314222  \n",
      "RainTomorrow  -0.034741 -0.211749   0.314222      1.000000  \n"
     ]
    }
   ],
   "source": [
    "# 2στ. Υπολογισμός του πίνακα συσχέτισης\n",
    "correlation_matrix = df.corr(numeric_only = True) # numeric_only = True, because some values were strings\n",
    "print(\"\\nΣυσχέτιση μεταξύ Δεδομένων:\")\n",
    "print(correlation_matrix)\n"
   ]
  },
  {
   "cell_type": "code",
   "execution_count": 82,
   "metadata": {},
   "outputs": [
    {
     "name": "stdout",
     "output_type": "stream",
     "text": [
      "Κενές Τιμές ανά Στήλη:\n",
      "id                   0\n",
      "Date                 0\n",
      "Location             0\n",
      "MinTemp            160\n",
      "MaxTemp            101\n",
      "Rainfall             0\n",
      "Evaporation      20384\n",
      "Sunshine         22997\n",
      "WindGustDir       3121\n",
      "WindGustSpeed     3093\n",
      "WindDir9am        3821\n",
      "WindDir3pm        1328\n",
      "WindSpeed9am       357\n",
      "WindSpeed3pm       857\n",
      "Humidity9am        558\n",
      "Humidity3pm       1259\n",
      "Pressure9am       4780\n",
      "Pressure3pm       4789\n",
      "Cloud9am         17890\n",
      "Cloud3pm         18981\n",
      "Temp9am            226\n",
      "Temp3pm            913\n",
      "RainToday            0\n",
      "RainTomorrow         0\n",
      "dtype: int64\n"
     ]
    }
   ],
   "source": [
    "# 2ζ. οποιαδήποτε άλλη πληροφορία πιστεύετε ότι είναι χρήσιμη\n",
    "# Υπολογισμός αριθμού κενών τιμών ανά στήλη\n",
    "missing_values = df.isnull().sum()\n",
    "\n",
    "# Εμφάνιση αριθμού κενών τιμών ανά στήλη\n",
    "print(\"Κενές Τιμές ανά Στήλη:\")\n",
    "print(missing_values)"
   ]
  },
  {
   "cell_type": "markdown",
   "metadata": {
    "id": "EbK3in0hNMeI"
   },
   "source": [
    "### 3. Προεπεξεργασία συνόλου δεδομένων\n",
    "💡`Χρησιμοποιήστε το Column Transformer για τη δημιουργία και την εφαρμογή χωριστών μετασχηματιστών για αριθμητικά και κατηγορικά δεδομένα.`\n",
    "\n",
    "\n"
   ]
  },
  {
   "cell_type": "markdown",
   "metadata": {
    "id": "mKsQVCnLQZ30"
   },
   "source": [
    "3.α.  Θα χρησιμοποιήσετε όλα τα χαρακτηριστικά του συνόλου δεδομένων για την εκπαίδευση των ταξινομητών ή θα επιλέξετε κάποια από αυτά;  Θα κάνετε κάποια συνένωση κάποιων χαρακτηριστικών για δημιουργία νέων χαρακτηριστικών για το μοντέλο σας;\n"
   ]
  },
  {
   "cell_type": "code",
   "execution_count": 83,
   "metadata": {
    "id": "Eqb25dcKNMvg"
   },
   "outputs": [
    {
     "name": "stdout",
     "output_type": "stream",
     "text": [
      "<class 'pandas.core.frame.DataFrame'>\n",
      "RangeIndex: 48423 entries, 0 to 48422\n",
      "Data columns (total 20 columns):\n",
      " #   Column         Non-Null Count  Dtype  \n",
      "---  ------         --------------  -----  \n",
      " 0   Location       48423 non-null  object \n",
      " 1   Rainfall       48423 non-null  float64\n",
      " 2   Evaporation    28039 non-null  float64\n",
      " 3   Sunshine       25426 non-null  float64\n",
      " 4   WindGustDir    45302 non-null  object \n",
      " 5   WindGustSpeed  45330 non-null  float64\n",
      " 6   WindDir9am     44602 non-null  object \n",
      " 7   WindDir3pm     47095 non-null  object \n",
      " 8   WindSpeed9am   48066 non-null  float64\n",
      " 9   WindSpeed3pm   47566 non-null  float64\n",
      " 10  Humidity9am    47865 non-null  float64\n",
      " 11  Humidity3pm    47164 non-null  float64\n",
      " 12  Pressure9am    43643 non-null  float64\n",
      " 13  Pressure3pm    43634 non-null  float64\n",
      " 14  Cloud9am       30533 non-null  float64\n",
      " 15  Cloud3pm       29442 non-null  float64\n",
      " 16  RainToday      48423 non-null  int64  \n",
      " 17  RainTomorrow   48423 non-null  int64  \n",
      " 18  Month          48423 non-null  int32  \n",
      " 19  AvgMaxTemp     48367 non-null  float64\n",
      "dtypes: float64(13), int32(1), int64(2), object(4)\n",
      "memory usage: 7.2+ MB\n"
     ]
    }
   ],
   "source": [
    "df['Date'] = pd.to_datetime(df['Date']) # 'Date' to date-time format\n",
    "df['Month'] = df['Date'].dt.month # change 'Date' to 'Month'\n",
    "df.drop(['id','MinTemp','Temp9am','Date'], axis=1, inplace=True) # η συσχετιση με το RainTomorrow ειναι πολυ μικρη\n",
    "df['AvgMaxTemp'] = df[['MaxTemp', 'Temp3pm']].mean(axis=1) # συνενωση το average των MaxTemp και Temp3pm\n",
    "df.drop(['MaxTemp','Temp3pm'], axis=1, inplace=True) # drop ta Temp3pm, MaxTemp\n",
    "df.info()"
   ]
  },
  {
   "cell_type": "markdown",
   "metadata": {
    "id": "GPCa3SklNmBe"
   },
   "source": [
    "3.β. Υπάρχουν απουσιάζουσες τιμές; Γράψτε κατάλληλο κώδικα ώστε να χειριστείτε αυτές τις τιμές."
   ]
  },
  {
   "cell_type": "code",
   "execution_count": 84,
   "metadata": {
    "id": "1e_E53VJN8a2"
   },
   "outputs": [],
   "source": [
    "# parakatw fainontai ta erwthmata 3β) ews 3στ) !!\n",
    "\n",
    "from sklearn.compose import ColumnTransformer\n",
    "from sklearn.impute import SimpleImputer\n",
    "from sklearn.preprocessing import OneHotEncoder\n",
    "from sklearn.preprocessing import StandardScaler\n",
    "from sklearn.pipeline import Pipeline\n",
    "from sklearn.feature_selection import SelectKBest, chi2\n",
    "\n",
    "# handle numeric features\n",
    "numeric_features = df.select_dtypes(include=['number']).columns\n",
    "numeric_features = numeric_features.drop(['RainToday', 'RainTomorrow']) \n",
    "numeric_transformer = Pipeline(steps=[\n",
    "    ('imputer', SimpleImputer(strategy='median')) # gemizw me Median 3.β) ii) απουσιάζουσες τιμές\n",
    "    ,('scaler', StandardScaler())])               # 3.δ) κλιμάκωση\n",
    "\n",
    "# handle categorical features\n",
    "categorical_features = df.select_dtypes(include=['object']).columns\n",
    "categorical_transformer = Pipeline(steps=[\n",
    "    ('imputer', SimpleImputer(strategy='most_frequent')), # 3.β) gemizw me most frequent sta objects ii) απουσιάζουσες τιμές\n",
    "    ('scaler', OneHotEncoder(handle_unknown='ignore'))])  # 3.γ) μετατροπή των κατηγορικών μεταβλητών\n",
    "\n",
    "# Create a transformer\n",
    "preprocessor = ColumnTransformer( # 3.ε)\n",
    "    transformers=[\n",
    "        ('num', numeric_transformer, numeric_features), \n",
    "        ('cat', categorical_transformer, categorical_features)]\n",
    "        , remainder='passthrough'  # Handle columns not specified in transformers (RainToday, RainTomorrow)\n",
    "    )\n",
    "\n",
    "# Fit and transform the data\n",
    "df_transformed = preprocessor.fit_transform(df) # 3.ε)\n",
    "\n",
    "# Retrieve feature names after transformation\n",
    "feature_names = preprocessor.get_feature_names_out()\n",
    "\n",
    "# Convert the sparse matrix to a DataFrame\n",
    "df_transformed_dense = pd.DataFrame(df_transformed.toarray(), columns=feature_names) # 3.ε)\n"
   ]
  },
  {
   "cell_type": "markdown",
   "metadata": {
    "id": "ZRq1eHYfNoEO"
   },
   "source": [
    "3.γ. Γράψτε κώδικα για την κατάλληλη μετατροπή των κατηγορικών μεταβλητών ώστε να μπορούν να τους διαχειριστούν οι ταξινομητές που θα χρησιμοποιήσετε."
   ]
  },
  {
   "cell_type": "code",
   "execution_count": 148,
   "metadata": {
    "id": "NxRunryNQiXa"
   },
   "outputs": [],
   "source": [
    "# φαίνεται παραπάνω στο 3β)"
   ]
  },
  {
   "cell_type": "markdown",
   "metadata": {
    "id": "KWsb4KQmQiFc"
   },
   "source": [
    "3.δ. Γράψτε κώδικα για την κλιμάκωση των χαρακτηριστικών, αν την θεωρείτε απαραίτητη"
   ]
  },
  {
   "cell_type": "code",
   "execution_count": 149,
   "metadata": {
    "id": "EXkL_EFfNom-"
   },
   "outputs": [],
   "source": [
    "# φαίνεται παραπάνω στο 3β)"
   ]
  },
  {
   "cell_type": "markdown",
   "metadata": {
    "id": "_S2tynpfhaOu"
   },
   "source": [
    "3.ε. Εκτελέστε όλα τα προηγούμενα βήμα προεκπαίδευσης (χρήση μετασχηματιστών) ώστε να είναι \"καθαρό\" το αρχικό σύνολο για να χρησιμοποιηθεί για την εκπαίδευση των ταξινομητών."
   ]
  },
  {
   "cell_type": "code",
   "execution_count": 150,
   "metadata": {
    "id": "_LdteolxhZfi"
   },
   "outputs": [],
   "source": [
    "# έχει ήδη γίνει στο 3β)"
   ]
  },
  {
   "cell_type": "markdown",
   "metadata": {
    "id": "OeD8amKKLJFr"
   },
   "source": [
    "3.στ. Αφού έχετε \"καθαρίσει\" το αρχικό σύνολο εκπαίδευσης, γράψτε τον κατάλληλο κώδικα ώστε από το αρχικό σύνολο εκπαίδευσης να δημιουργήσετε τα σύνολα Χ και y.\n",
    "\n",
    "💡 `Η στήλη 'RainTomorrow' είναι η τιμή που θέλουμε να προβλέψει ο ταξινομητής μας.`\n",
    "\n"
   ]
  },
  {
   "cell_type": "code",
   "execution_count": 85,
   "metadata": {
    "id": "FysfIb93LJxS"
   },
   "outputs": [
    {
     "data": {
      "text/plain": [
       "((48423, 112), (48423,))"
      ]
     },
     "execution_count": 85,
     "metadata": {},
     "output_type": "execute_result"
    }
   ],
   "source": [
    "column_to_exclude = 'remainder__RainTomorrow'\n",
    "y = df_transformed_dense[column_to_exclude]\n",
    "X = df_transformed_dense.drop(columns=[column_to_exclude])\n",
    "X.shape, y.shape # to check if the separation is done correctly"
   ]
  },
  {
   "cell_type": "markdown",
   "metadata": {
    "id": "8oU_se4UT0JF"
   },
   "source": [
    "3.ζ. Διαχωρίστε το σύνολο δεδομένων σε σύνολο εκπαίδευσης (train set) και σε σύνολο επικύρωσης (validation set) (ο διαχωρισμός να είναι train set 70% και validation set 30%).\n"
   ]
  },
  {
   "cell_type": "code",
   "execution_count": 86,
   "metadata": {
    "id": "wcwB_TK1ixvl"
   },
   "outputs": [],
   "source": [
    "from sklearn.model_selection import train_test_split\n",
    "\n",
    "RAND_STATE = 42\n",
    "  # Split into training and testing\n",
    "X_train, X_test, y_train, y_test = train_test_split(X, y, test_size=0.3, random_state=RAND_STATE)"
   ]
  },
  {
   "cell_type": "markdown",
   "metadata": {
    "id": "xhITyhMuSslH"
   },
   "source": [
    "### 4. Εκπαίδευση μοντέλου με default τιμές στις παραμέτρους των ταξινομητών\n",
    "\n",
    "Θα εκπαιδεύσουμε τους ακόλουθους ταξινομητές με το σύνολο εκπαίδευσης των δεδομένων μας:\n",
    "1. Naive Bayes\n",
    "2. KNeighborsClassifier\n",
    "3. LogisticRegression\n",
    "4. MLP με ένα κρυφό επίπεδο\n",
    "5. SVC\n",
    "6. Decision Tree\n",
    "7. Random Forest\n"
   ]
  },
  {
   "cell_type": "code",
   "execution_count": 87,
   "metadata": {
    "id": "-r3kEVgkU0OF"
   },
   "outputs": [],
   "source": [
    "from sklearn.naive_bayes import GaussianNB\n",
    "from sklearn.neighbors import KNeighborsClassifier\n",
    "from sklearn.linear_model import LogisticRegression\n",
    "from sklearn.neural_network import MLPClassifier\n",
    "from sklearn.svm import LinearSVC\n",
    "from sklearn.tree import DecisionTreeClassifier\n",
    "from sklearn.ensemble import RandomForestClassifier"
   ]
  },
  {
   "cell_type": "markdown",
   "metadata": {
    "id": "a49EG4Z9U0yD"
   },
   "source": [
    " 4.α. Εκπαιδεύστε (fit)  και τους  7 ταξινομητές που προαναφέρθηκαν (εμφανίστε τα δείγματα από το train set μαζί με την ετικέτα τους στην είσοδο του κάθε ταξινομητή), χρησιμοποιώντας τις default τιμές για όλες τις παραμέτρους τους."
   ]
  },
  {
   "cell_type": "code",
   "execution_count": 151,
   "metadata": {
    "id": "-_kDpm_sWRjs"
   },
   "outputs": [
    {
     "name": "stdout",
     "output_type": "stream",
     "text": [
      "\n",
      "Naive Bayes - FITTING DONE\n",
      "\n",
      "KNeighborsClassifier - FITTING DONE\n",
      "\n",
      "Logistic Regression - FITTING DONE\n",
      "\n",
      "MLP Classifier - FITTING DONE\n",
      "\n",
      "SVC - FITTING DONE\n",
      "\n",
      "Decision Tree - FITTING DONE\n",
      "\n",
      "Random Forest - FITTING DONE\n"
     ]
    }
   ],
   "source": [
    "# Εκπαίδευση Naive Bayes\n",
    "nb_classifier = GaussianNB()\n",
    "nb_classifier.fit(X_train, y_train)\n",
    "print(\"\\nNaive Bayes - FITTING DONE\")\n",
    "\n",
    "# Εκπαίδευση KNeighborsClassifier\n",
    "knn_classifier = KNeighborsClassifier()\n",
    "knn_classifier.fit(X_train, y_train)\n",
    "print(\"\\nKNeighborsClassifier - FITTING DONE\")\n",
    "\n",
    "# Εκπαίδευση Logistic Regression\n",
    "lr_classifier = LogisticRegression()\n",
    "lr_classifier.fit(X_train, y_train)\n",
    "print(\"\\nLogistic Regression - FITTING DONE\")\n",
    "\n",
    "# Εκπαίδευση MLP με ένα κρυφό επίπεδο\n",
    "mlp_classifier = MLPClassifier(hidden_layer_sizes=(1,))\n",
    "mlp_classifier.fit(X_train, y_train)\n",
    "print(\"\\nMLP Classifier - FITTING DONE\")\n",
    "\n",
    "# Εκπαίδευση SVC\n",
    "svc_classifier = LinearSVC(C=0.001, dual = \"auto\")\n",
    "svc_classifier.fit(X_train, y_train)\n",
    "print(\"\\nSVC - FITTING DONE\")\n",
    "\n",
    "# Εκπαίδευση Decision Tree\n",
    "dt_classifier = DecisionTreeClassifier()\n",
    "dt_classifier.fit(X_train, y_train)\n",
    "print(\"\\nDecision Tree - FITTING DONE\")\n",
    "\n",
    "# Εκπαίδευση Random Forest\n",
    "rf_classifier = RandomForestClassifier()\n",
    "rf_classifier.fit(X_train, y_train)\n",
    "print(\"\\nRandom Forest - FITTING DONE\")"
   ]
  },
  {
   "cell_type": "markdown",
   "metadata": {
    "id": "dkv21zidSgNX"
   },
   "source": [
    "4.β. Εφαρμόστε στα εκπαιδευμένα μοντέλα από το validation set μόνο τα δείγματα χωρίς την ετικέτα τους (predict).\n"
   ]
  },
  {
   "cell_type": "code",
   "execution_count": 89,
   "metadata": {
    "editable": true,
    "id": "3DqkKHMZQaDe",
    "slideshow": {
     "slide_type": ""
    },
    "tags": []
   },
   "outputs": [
    {
     "name": "stdout",
     "output_type": "stream",
     "text": [
      "\n",
      "NB - predictions made\n",
      "\n",
      "KNN - predictions made\n",
      "\n",
      "LR - predictions made\n",
      "\n",
      "MLP - predictions made\n",
      "\n",
      "SVC - predictions made\n",
      "\n",
      "DT - predictions made\n",
      "\n",
      "RF - predictions made\n"
     ]
    }
   ],
   "source": [
    "y_pred_nb = nb_classifier.predict(X_test)\n",
    "print(\"\\nNB - predictions made\")\n",
    "\n",
    "y_pred_knn = knn_classifier.predict(X_test)\n",
    "print(\"\\nKNN - predictions made\")\n",
    "\n",
    "y_pred_lr = lr_classifier.predict(X_test)\n",
    "print(\"\\nLR - predictions made\")\n",
    "\n",
    "y_pred_mlp = mlp_classifier.predict(X_test)\n",
    "print(\"\\nMLP - predictions made\")\n",
    "\n",
    "y_pred_svc = svc_classifier.predict(X_test)\n",
    "print(\"\\nSVC - predictions made\")\n",
    "\n",
    "y_pred_dt = dt_classifier.predict(X_test)\n",
    "print(\"\\nDT - predictions made\")\n",
    "\n",
    "y_pred_rf = rf_classifier.predict(X_test)\n",
    "print(\"\\nRF - predictions made\")"
   ]
  },
  {
   "cell_type": "markdown",
   "metadata": {
    "id": "BsvLlbPRWaa_"
   },
   "source": [
    "\n",
    "4.γ. Συγκρίνετε την έξοδο του κάθε μοντέλου σε σχέση με τις αντίστοιχες ετικέτες του validation set και αξιολογήστε την επιδοσή τους χρησιμοποιώντας το F1 score.\n"
   ]
  },
  {
   "cell_type": "code",
   "execution_count": 90,
   "metadata": {
    "editable": true,
    "id": "9jkFxtNbWZvY",
    "slideshow": {
     "slide_type": ""
    },
    "tags": []
   },
   "outputs": [
    {
     "name": "stdout",
     "output_type": "stream",
     "text": [
      "\n",
      "NB SCORE:\n",
      "              precision    recall  f1-score   support\n",
      "\n",
      "         0.0       0.88      0.62      0.73     11184\n",
      "         1.0       0.36      0.71      0.48      3343\n",
      "\n",
      "    accuracy                           0.64     14527\n",
      "   macro avg       0.62      0.66      0.60     14527\n",
      "weighted avg       0.76      0.64      0.67     14527\n",
      "\n",
      "\n",
      "F1 Score for NB on validation set: 0.4753\n",
      "\n",
      "KNN SCORE:\n",
      "              precision    recall  f1-score   support\n",
      "\n",
      "         0.0       0.86      0.94      0.90     11184\n",
      "         1.0       0.70      0.50      0.58      3343\n",
      "\n",
      "    accuracy                           0.84     14527\n",
      "   macro avg       0.78      0.72      0.74     14527\n",
      "weighted avg       0.83      0.84      0.83     14527\n",
      "\n",
      "\n",
      "F1 Score for KNeighborsClassifier on validation set: 0.5847\n",
      "\n",
      "LR SCORE:\n",
      "              precision    recall  f1-score   support\n",
      "\n",
      "         0.0       0.87      0.95      0.91     11184\n",
      "         1.0       0.75      0.54      0.63      3343\n",
      "\n",
      "    accuracy                           0.85     14527\n",
      "   macro avg       0.81      0.74      0.77     14527\n",
      "weighted avg       0.84      0.85      0.84     14527\n",
      "\n",
      "\n",
      "F1 Score for LR on validation set: 0.6269\n",
      "\n",
      "MLP SCORE:\n",
      "              precision    recall  f1-score   support\n",
      "\n",
      "         0.0       0.87      0.94      0.91     11184\n",
      "         1.0       0.73      0.55      0.63      3343\n",
      "\n",
      "    accuracy                           0.85     14527\n",
      "   macro avg       0.80      0.74      0.77     14527\n",
      "weighted avg       0.84      0.85      0.84     14527\n",
      "\n",
      "\n",
      "F1 Score for mlp on validation set: 0.6281\n",
      "\n",
      "SVC SCORE:\n",
      "              precision    recall  f1-score   support\n",
      "\n",
      "         0.0       0.86      0.95      0.91     11184\n",
      "         1.0       0.75      0.50      0.60      3343\n",
      "\n",
      "    accuracy                           0.85     14527\n",
      "   macro avg       0.81      0.73      0.75     14527\n",
      "weighted avg       0.84      0.85      0.84     14527\n",
      "\n",
      "\n",
      "F1 Score for svc on validation set: 0.6022\n",
      "\n",
      "DT SCORE:\n",
      "              precision    recall  f1-score   support\n",
      "\n",
      "         0.0       0.87      0.86      0.86     11184\n",
      "         1.0       0.55      0.55      0.55      3343\n",
      "\n",
      "    accuracy                           0.79     14527\n",
      "   macro avg       0.71      0.71      0.71     14527\n",
      "weighted avg       0.79      0.79      0.79     14527\n",
      "\n",
      "\n",
      "F1 Score for dt on validation set: 0.5490\n",
      "\n",
      "RF SCORE:\n",
      "              precision    recall  f1-score   support\n",
      "\n",
      "         0.0       0.87      0.96      0.91     11184\n",
      "         1.0       0.78      0.52      0.63      3343\n",
      "\n",
      "    accuracy                           0.86     14527\n",
      "   macro avg       0.83      0.74      0.77     14527\n",
      "weighted avg       0.85      0.86      0.85     14527\n",
      "\n",
      "\n",
      "F1 Score for rf on validation set: 0.6252\n"
     ]
    }
   ],
   "source": [
    "from sklearn.metrics import classification_report\n",
    "from sklearn.metrics import f1_score\n",
    "# Evaluate nb\n",
    "print('\\nNB SCORE:')\n",
    "\n",
    "# compute the classification report\n",
    "print(classification_report(y_test, y_pred_nb))\n",
    "# Calculate F1 score for NB\n",
    "f1_nb = f1_score(y_test, y_pred_nb, average='binary')\n",
    "print(f'\\nF1 Score for NB on validation set: {f1_nb:.4f}')\n",
    "# Evaluate knn ########################################################################################################\n",
    "print('\\nKNN SCORE:')\n",
    "\n",
    "# compute the classification report\n",
    "print(classification_report(y_test, y_pred_knn))\n",
    "# Calculate F1 score for KNeighborsClassifier\n",
    "f1_knn = f1_score(y_test, y_pred_knn, average='binary')\n",
    "print(f'\\nF1 Score for KNeighborsClassifier on validation set: {f1_knn:.4f}')\n",
    "# Evaluate lr ########################################################################################################\n",
    "print('\\nLR SCORE:')\n",
    "\n",
    "# compute the classification report\n",
    "print(classification_report(y_test, y_pred_lr))\n",
    "# Calculate F1 score for LR\n",
    "f1_lr = f1_score(y_test, y_pred_lr, average='binary')\n",
    "print(f'\\nF1 Score for LR on validation set: {f1_lr:.4f}')\n",
    "# Evaluate mlp ########################################################################################################\n",
    "print('\\nMLP SCORE:')\n",
    "\n",
    "# compute the classification report\n",
    "print(classification_report(y_test, y_pred_mlp))\n",
    "# Calculate F1 score for KNeighborsClassifier\n",
    "f1_mlp = f1_score(y_test, y_pred_mlp, average='binary')\n",
    "print(f'\\nF1 Score for mlp on validation set: {f1_mlp:.4f}')\n",
    "# Evaluate svc ########################################################################################################\n",
    "print('\\nSVC SCORE:')\n",
    "\n",
    "# compute the classification report\n",
    "print(classification_report(y_test, y_pred_svc))\n",
    "# Calculate F1 score for KNeighborsClassifier\n",
    "f1_svc = f1_score(y_test, y_pred_svc, average='binary')\n",
    "print(f'\\nF1 Score for svc on validation set: {f1_svc:.4f}')\n",
    "# Evaluate dt ########################################################################################################\n",
    "print('\\nDT SCORE:')\n",
    "\n",
    "# compute the classification report\n",
    "print(classification_report(y_test, y_pred_dt))\n",
    "# Calculate F1 score for KNeighborsClassifier\n",
    "f1_dt = f1_score(y_test, y_pred_dt, average='binary')\n",
    "print(f'\\nF1 Score for dt on validation set: {f1_dt:.4f}')\n",
    "# Evaluate rf ########################################################################################################\n",
    "print('\\nRF SCORE:')\n",
    "\n",
    "# compute the classification report\n",
    "print(classification_report(y_test, y_pred_rf))\n",
    "# Calculate F1 score for KNeighborsClassifier\n",
    "f1_rf = f1_score(y_test, y_pred_rf, average='binary')\n",
    "print(f'\\nF1 Score for rf on validation set: {f1_rf:.4f}')"
   ]
  },
  {
   "cell_type": "markdown",
   "metadata": {
    "id": "F1SXqT2vWZTh"
   },
   "source": [
    "4.δ.  Αξιολογήστε συνολικά την επίδοση των μοντέλων χρησιμοποιώντας κάποιο γράφημα (π.χ. ιστόγραμμα, bar plot) και σχολιάστε ποιο μοντέλο είχε την καλύτερη επίδοση.\n"
   ]
  },
  {
   "cell_type": "code",
   "execution_count": 91,
   "metadata": {
    "id": "UOiOlTcJjISQ"
   },
   "outputs": [
    {
     "data": {
      "image/png": "[encoded data removed]",
      "text/plain": [
       "<Figure size 640x480 with 1 Axes>"
      ]
     },
     "metadata": {},
     "output_type": "display_data"
    }
   ],
   "source": [
    "import matplotlib.pyplot as plt\n",
    "from sklearn.metrics import f1_score\n",
    "\n",
    "# Calculate F1 scores for each model\n",
    "f1_scores = {\n",
    "    'Naive Bayes': f1_score(y_test, y_pred_nb, average='binary'),\n",
    "    'KNN': f1_score(y_test, y_pred_knn, average='binary'),\n",
    "    'Logistic Regression': f1_score(y_test, y_pred_lr, average='binary'),\n",
    "    'MLP': f1_score(y_test, y_pred_mlp, average='binary'),\n",
    "    'SVM': f1_score(y_test, y_pred_svc, average='binary'),\n",
    "    'Decision Tree': f1_score(y_test, y_pred_dt, average='binary'),\n",
    "    'Random Forest': f1_score(y_test, y_pred_rf, average='binary'),\n",
    "}\n",
    "\n",
    "# Create a bar plot\n",
    "fig, ax = plt.subplots()\n",
    "models = list(f1_scores.keys())\n",
    "scores = list(f1_scores.values())\n",
    "\n",
    "bars = ax.bar(models, scores, color='green')\n",
    "\n",
    "# Add labels and title\n",
    "ax.set_ylabel('F1 Score')\n",
    "ax.set_title('Model Comparison based on F1 Score')\n",
    "ax.set_ylim([0, 1])\n",
    "\n",
    "# Add the F1 score values on top of the bars\n",
    "for bar in bars:\n",
    "    yval = bar.get_height()\n",
    "    plt.text(bar.get_x() + bar.get_width()/2, yval + 0.02, round(yval, 3), ha='center', va='bottom')\n",
    "\n",
    "# Make X-axis labels smaller\n",
    "ax.tick_params(axis='x', labelrotation=45, labelsize=8)\n",
    "\n",
    "# Show the plot\n",
    "plt.show()\n",
    "\n"
   ]
  },
  {
   "cell_type": "markdown",
   "metadata": {
    "id": "f1ZWds7ekAsL"
   },
   "source": [
    "### 5. Προετοιμασία αρχείου για την πρώτη υποβολή στο kaggle"
   ]
  },
  {
   "cell_type": "markdown",
   "metadata": {
    "id": "atEnldNpkSTG"
   },
   "source": [
    "5.α. Χρησιμοποιήστε **ΜΟΝΟ** το μοντέλο σας με την καλύτερη επίδοση για να κάνετε προβλέψεις, χρησιμοποιώντας το [test set](https://drive.google.com/file/d/1bcmuoeRVY0y5ZuY6nZcmzy8_5fOFR4Oa/view?usp=drive_link).\n"
   ]
  },
  {
   "cell_type": "code",
   "execution_count": 92,
   "metadata": {
    "id": "UM0B638pkBLC"
   },
   "outputs": [
    {
     "name": "stdout",
     "output_type": "stream",
     "text": [
      "\n",
      "PREPROCESSING DONE ON test.csv\n"
     ]
    },
    {
     "name": "stderr",
     "output_type": "stream",
     "text": [
      "C:\\Users\\User\\AppData\\Local\\Temp\\ipykernel_18204\\1892878706.py:4: UserWarning: Parsing dates in %d/%m/%Y format when dayfirst=False (the default) was specified. Pass `dayfirst=True` or specify a format to silence this warning.\n",
      "  X_test2['Date'] = pd.to_datetime(X_test2['Date'], dayfirst=False) # 'Date' to date-time format\n"
     ]
    }
   ],
   "source": [
    "X_test2 = pd.read_csv('test.csv')\n",
    "\n",
    "# morfopoihsh tou X_test2 wste na exei thn idia morfh me to X_test\n",
    "X_test2['Date'] = pd.to_datetime(X_test2['Date'], dayfirst=False) # 'Date' to date-time format\n",
    "X_test2['Month'] = X_test2['Date'].dt.month # change 'Date' to 'Month'\n",
    "X_test2.drop(['MinTemp','Temp9am','Date'], axis=1, inplace=True) # η συσχετιση σε σχεση με το RainTomorrow ειναι πολυ μικρη\n",
    "X_test2['AvgMaxTemp'] = X_test2[['MaxTemp', 'Temp3pm']].mean(axis=1) # κανω συνενωση το average των MaxTemp και Temp3pm\n",
    "X_test2.drop(['MaxTemp','Temp3pm'], axis=1, inplace=True) # σβηνω τα Temp3pm, MaxTemp, αρα μενει μονο το AvgMaxTemp\n",
    "\n",
    "# handle numeric features\n",
    "numeric_features = X_test2.select_dtypes(include=['number']).columns\n",
    "numeric_features = numeric_features.drop(['RainToday']) ############df.select_dtypes(include=['number']).columns\n",
    "\n",
    "numeric_transformer = Pipeline(steps=[\n",
    "    ('imputer', SimpleImputer(strategy='median'))\n",
    "    ,('scaler', StandardScaler())])               # 3.δ) κλιμάκωση\n",
    "\n",
    "# handle categorical features\n",
    "categorical_features = X_test2.select_dtypes(include=['object']).columns\n",
    "categorical_transformer = Pipeline(steps=[\n",
    "    ('imputer', SimpleImputer(strategy='most_frequent')), # 3.β) ii) απουσιάζουσες τιμές\n",
    "    ('scaler', OneHotEncoder(handle_unknown='ignore'))])  # 3.γ) μετατροπή των κατηγορικών μεταβλητών\n",
    "\n",
    "# Create a transformer\n",
    "preprocessor = ColumnTransformer( # 3.ε)\n",
    "    transformers=[\n",
    "        ('num', numeric_transformer, numeric_features), \n",
    "        ('cat', categorical_transformer, categorical_features)]\n",
    "        , remainder='passthrough'  # Handle columns not specified in transformers\n",
    "    )\n",
    "\n",
    "# Fit and transform the data\n",
    "X_test2_transformed = preprocessor.fit_transform(X_test2) # 3.ε)\n",
    "\n",
    "# Now, df_transformed contains the transformed data without the need for np.array conversion\n",
    "\n",
    "# Retrieve feature names after transformation\n",
    "feature_names = preprocessor.get_feature_names_out()\n",
    "\n",
    "# Convert the sparse matrix to a DataFrame\n",
    "X_test2_transformed_dense = pd.DataFrame(X_test2_transformed.toarray(), columns=feature_names) # 3.ε)\n",
    "\n",
    "#y_test_pred_rf = rf_classifier.predict(X_test2_transformed_dense) #################################################### keep\n",
    "print(\"\\nPREPROCESSING DONE ON test.csv\")"
   ]
  },
  {
   "cell_type": "markdown",
   "metadata": {
    "id": "_WwjA-3kjFRj"
   },
   "source": [
    "5.β. Αποθηκεύστε τις προβλέψεις από το καλύτερο μοντέλο σας σε ένα csv αρχείο. To csv αρχείο θα πρέπει να είναι περιέχει 2 στήλες: η πρώτη στήλη να περιέχει την στήλη id του test set file και η δεύτερη στήλη τις αντίστοιχες προβλέψεις που έκανε το καλύτερα εκπαιδευμένο μοντέλο σας (βήμα 5α)."
   ]
  },
  {
   "cell_type": "code",
   "execution_count": 93,
   "metadata": {
    "id": "Z6SPFOpZjF5l"
   },
   "outputs": [
    {
     "name": "stdout",
     "output_type": "stream",
     "text": [
      "\n",
      "RF - PREDICTIONS MADE\n",
      "<class 'pandas.core.frame.DataFrame'>\n",
      "RangeIndex: 9699 entries, 0 to 9698\n",
      "Data columns (total 2 columns):\n",
      " #   Column        Non-Null Count  Dtype  \n",
      "---  ------        --------------  -----  \n",
      " 0   id            9699 non-null   int64  \n",
      " 1   RainTomorrow  9699 non-null   float64\n",
      "dtypes: float64(1), int64(1)\n",
      "memory usage: 151.7 KB\n"
     ]
    }
   ],
   "source": [
    "y_test_pred_rf = rf_classifier.predict(X_test2_transformed_dense)\n",
    "print(\"\\nRF - PREDICTIONS MADE\")\n",
    "# Create a new DataFrame 'ID' with the 'RainTomorrow' column\n",
    "ID_df = pd.DataFrame({'id': range(1, len(y_test_pred_rf) + 1), 'RainTomorrow': y_test_pred_rf})\n",
    "\n",
    "ID_df.info()\n",
    "\n",
    "ID_df.to_csv('semi_final_output.csv',index=False)"
   ]
  },
  {
   "cell_type": "markdown",
   "metadata": {
    "id": "j6OoLlxrYILN"
   },
   "source": [
    "### 6. Βελτιστοποίηση μοντέλων με εύρεση καλύτερων υπερπαραμέτρων των ταξινομητών\n",
    "\n",
    "6.α. Για τους 7 ταξινομητές βελτιστοποιήστε την επίδοσή τους χρησιμοποιώντας αναζήτηση πλέγματος με διασταυρούμενη επικύρωση (k-fold 5)  με σκοπό την εύρεση των βέλτιστων υπερπαραμέτρων."
   ]
  },
  {
   "cell_type": "code",
   "execution_count": 152,
   "metadata": {},
   "outputs": [],
   "source": [
    "# Παρακάτω φαίνονται κάποια ενδεικτικά μικρότερα parameter grids. \n",
    "# Πιο κάτω φαίνονται αυτά που πραγματικά χρησιμοποίησα για να βγάλω τα ιδανικά αποτελέσματα"
   ]
  },
  {
   "cell_type": "code",
   "execution_count": 128,
   "metadata": {
    "id": "FK_zetZLlOeV"
   },
   "outputs": [
    {
     "name": "stdout",
     "output_type": "stream",
     "text": [
      "Fitting 5 folds for each of 9 candidates, totalling 45 fits\n",
      "\n",
      "BEST HYPERPARAMETERS:\n",
      " {'var_smoothing': 1}\n",
      "Best F1 Score: 0.5323\n"
     ]
    }
   ],
   "source": [
    "from sklearn.model_selection import GridSearchCV\n",
    "\n",
    "# για NB\n",
    "\n",
    "# Ορίστε τις υπερπαραμέτρους που θέλετε να αξιολογήσετε\n",
    "param_grid = {\n",
    "        'var_smoothing': [10,1,1e-4,1e-5,1e-6,1e-7,1e-8,1e-9,1e-10]\n",
    "}\n",
    "\n",
    "# Δημιουργία αντικειμένου GridSearchCV με διασταυρούμενη επικύρωση 5-fold\n",
    "grid_search = GridSearchCV(GaussianNB(), param_grid, cv=5, scoring='f1',verbose = 2,n_jobs = 4)\n",
    "\n",
    "# Εκπαίδευση με διασταυρούμενη επικύρωση και αναζήτηση πλέγματος\n",
    "grid_search.fit(X_train, y_train)\n",
    "\n",
    "# Εκτύπωση των βέλτιστων υπερπαραμέτρων\n",
    "print(\"\\nBEST HYPERPARAMETERS:\\n\", grid_search.best_params_)\n",
    "\n",
    "# Εκτύπωση της βέλτιστης F1 score\n",
    "print(\"Best F1 Score: {:.4f}\".format(grid_search.best_score_))\n"
   ]
  },
  {
   "cell_type": "code",
   "execution_count": null,
   "metadata": {},
   "outputs": [],
   "source": [
    "# Αποθήκευση των αποτελεσμάτων σε ένα CSV αρχείο\n",
    "results_df = pd.DataFrame(grid_search.cv_results_)\n",
    "results_df.to_csv('Naive_Bayes_results.csv', index=False)"
   ]
  },
  {
   "cell_type": "code",
   "execution_count": 129,
   "metadata": {
    "editable": true,
    "slideshow": {
     "slide_type": ""
    },
    "tags": []
   },
   "outputs": [
    {
     "name": "stdout",
     "output_type": "stream",
     "text": [
      "Fitting 5 folds for each of 4 candidates, totalling 20 fits\n",
      "\n",
      "BEST HYPERPARAMETERS:\n",
      " {'n_neighbors': 20, 'weights': 'distance'}\n",
      "Best F1 Score: 0.5761\n"
     ]
    }
   ],
   "source": [
    "# για KNN\n",
    "from sklearn.model_selection import GridSearchCV\n",
    "\n",
    "# Ορισμός των παραμέτρων που θα ελεγχθούν στο πλέγμα\n",
    "param_grid = {'n_neighbors': [9, 20], 'weights': ['uniform', 'distance']}\n",
    "\n",
    "# Δημιουργία του αντικειμένου GridSearchCV με scoring='f1'\n",
    "grid_search = GridSearchCV(KNeighborsClassifier(), param_grid, cv=5, scoring='f1', verbose=2, n_jobs = 4)\n",
    "\n",
    "# Εκπαίδευση του GridSearchCV στα δεδομένα εκπαίδευσης\n",
    "grid_search.fit(X_train, y_train)\n",
    "\n",
    "# Εκτύπωση των βέλτιστων υπερπαραμέτρων\n",
    "print(\"\\nBEST HYPERPARAMETERS:\\n\", grid_search.best_params_)\n",
    "\n",
    "# Εκτύπωση της βέλτιστης F1 score\n",
    "print(\"Best F1 Score: {:.4f}\".format(grid_search.best_score_))"
   ]
  },
  {
   "cell_type": "code",
   "execution_count": 98,
   "metadata": {},
   "outputs": [
    {
     "name": "stdout",
     "output_type": "stream",
     "text": [
      "Fitting 5 folds for each of 3 candidates, totalling 15 fits\n",
      "\n",
      "BEST HYPERPARAMETERS:\n",
      " {'C': 10}\n",
      "Best F1 Score: 0.6145\n"
     ]
    }
   ],
   "source": [
    "# για LR\n",
    "\n",
    "import warnings\n",
    "from sklearn.exceptions import ConvergenceWarning\n",
    "\n",
    "# Ignore ConvergenceWarning\n",
    "warnings.filterwarnings(\"ignore\", category=ConvergenceWarning)\n",
    "\n",
    "# Ορισμός του πλέγματος παραμέτρων προς εξέταση\n",
    "param_grid = {'C': [0.1, 1, 10]}\n",
    "\n",
    "# Δημιουργία του αντικειμένου GridSearchCV\n",
    "grid_search = GridSearchCV(LogisticRegression(), param_grid, cv=5, scoring='f1', verbose=2, n_jobs = 4)\n",
    "\n",
    "# Εκτέλεση της αναζήτησης πλέγματος στα δεδομένα εκπαίδευσης\n",
    "#lr_classifier = LogisticRegression(max_iter=1e6)\n",
    "grid_search.fit(X_train, y_train)\n",
    "\n",
    "# Εκτύπωση των βέλτιστων υπερπαραμέτρων\n",
    "print(\"\\nBEST HYPERPARAMETERS:\\n\", grid_search.best_params_)\n",
    "\n",
    "# Εκτύπωση της βέλτιστης F1 score\n",
    "print(\"Best F1 Score: {:.4f}\".format(grid_search.best_score_))"
   ]
  },
  {
   "cell_type": "code",
   "execution_count": 125,
   "metadata": {
    "editable": true,
    "slideshow": {
     "slide_type": ""
    },
    "tags": []
   },
   "outputs": [
    {
     "name": "stdout",
     "output_type": "stream",
     "text": [
      "Fitting 5 folds for each of 1 candidates, totalling 5 fits\n",
      "\n",
      "BEST HYPERPARAMETERS:\n",
      " {'activation': 'tanh', 'alpha': 0.1, 'hidden_layer_sizes': (40,), 'learning_rate': 'constant'}\n",
      "Best F1 Score: 0.6414\n"
     ]
    }
   ],
   "source": [
    "# για MLP\n",
    "\n",
    "# Ορίστε το εύρος των υπερπαραμέτρων που θα ελεγχθούν\n",
    "param_grid = {\n",
    "    'hidden_layer_sizes': [(35,),(40,)],  \n",
    "    'activation': ['relu', 'tanh'],  \n",
    "    'alpha': [0.1, 0.05],   \n",
    "    'learning_rate': ['constant', 'adaptive'],  \n",
    "}\n",
    "\n",
    "# Δημιουργία του GridSearchCV με τον MLPClassifier και το πλέγμα παραμέτρων\n",
    "grid_search = GridSearchCV(MLPClassifier(), param_grid, cv=5, scoring='f1', verbose=2, n_jobs = 4)\n",
    "\n",
    "# Εκπαίδευση του GridSearchCV στα δεδομένα\n",
    "grid_search.fit(X_train, y_train)\n",
    "\n",
    "# Εκτύπωση των βέλτιστων υπερπαραμέτρων\n",
    "print(\"\\nBEST HYPERPARAMETERS:\\n\", grid_search.best_params_)\n",
    "\n",
    "# Εκτύπωση της βέλτιστης F1 score\n",
    "print(\"Best F1 Score: {:.4f}\".format(grid_search.best_score_))"
   ]
  },
  {
   "cell_type": "code",
   "execution_count": 52,
   "metadata": {},
   "outputs": [],
   "source": [
    "# Αποθήκευση των αποτελεσμάτων σε ένα CSV αρχείο\n",
    "results_df = pd.DataFrame(grid_search.cv_results_)\n",
    "results_df.to_csv('MLP_results.csv', index=False)"
   ]
  },
  {
   "cell_type": "code",
   "execution_count": 59,
   "metadata": {
    "editable": true,
    "slideshow": {
     "slide_type": ""
    },
    "tags": []
   },
   "outputs": [
    {
     "name": "stdout",
     "output_type": "stream",
     "text": [
      "Fitting 5 folds for each of 3 candidates, totalling 15 fits\n",
      "\n",
      "BEST HYPERPARAMETERS:\n",
      " {'C': 0.1}\n",
      "Best F1 Score: 0.6067\n"
     ]
    }
   ],
   "source": [
    "from sklearn.svm import LinearSVC\n",
    "from sklearn.model_selection import GridSearchCV\n",
    "\n",
    "# Ορίζουμε το πλέγμα των υπερπαραμέτρων που θα αξιολογήσουμε\n",
    "param_grid = {'C': [0.001, 0.01, 0.1]}  # Tolerance for stopping criteria\n",
    "\n",
    "# Δημιουργούμε ένα αντικείμενο GridSearchCV\n",
    "grid_search = GridSearchCV(LinearSVC(dual=\"auto\"), param_grid, cv=5, scoring='f1', verbose=2, n_jobs=4)\n",
    "\n",
    "# Εκπαίδευση με διασταυρούμενη επικύρωση\n",
    "grid_search.fit(X_train, y_train) # is this the best (?)\n",
    "\n",
    "# Εκτύπωση των βέλτιστων υπερπαραμέτρων\n",
    "print(\"\\nBEST HYPERPARAMETERS:\\n\", grid_search.best_params_)\n",
    "\n",
    "# Εκτύπωση της βέλτιστης F1 score\n",
    "print(\"Best F1 Score: {:.4f}\".format(grid_search.best_score_))"
   ]
  },
  {
   "cell_type": "code",
   "execution_count": 55,
   "metadata": {
    "editable": true,
    "slideshow": {
     "slide_type": ""
    },
    "tags": []
   },
   "outputs": [],
   "source": [
    "# Αποθήκευση των αποτελεσμάτων σε ένα CSV αρχείο\n",
    "results_df = pd.DataFrame(grid_search.cv_results_)\n",
    "results_df.to_csv('LinearSVC_results.csv', index=False)"
   ]
  },
  {
   "cell_type": "code",
   "execution_count": 30,
   "metadata": {
    "editable": true,
    "slideshow": {
     "slide_type": ""
    },
    "tags": []
   },
   "outputs": [
    {
     "name": "stdout",
     "output_type": "stream",
     "text": [
      "Fitting 5 folds for each of 64 candidates, totalling 320 fits\n",
      "\n",
      "BEST HYPERPARAMETERS:\n",
      " {'criterion': 'entropy', 'max_depth': 10, 'min_samples_leaf': 1, 'min_samples_split': 2, 'splitter': 'best'}\n",
      "Best F1 Score: 0.5812\n"
     ]
    }
   ],
   "source": [
    "# για το Decision Tree\n",
    "# (Κάνει πολυ χρόνο, για αυτό το έχω κάνει comment, παρακάτω φαίνονται τα αποτελέσματα, τα οποία επίσης δεν είναι ικανοποιητικά)\n",
    "# Ορισμός των υπερπαραμέτρων που θέλουμε να εξετάσουμε\n",
    "#param_grid = {\n",
    "#    'criterion': ['gini', 'entropy'],\n",
    "#    'splitter': ['best', 'random'],\n",
    "#    'max_depth': [None, 10, 20, 30],\n",
    "#    'min_samples_split': [2, 5],\n",
    "#    'min_samples_leaf': [1, 2]\n",
    "#}\n",
    "\n",
    "# Δημιουργία του αντικειμένου GridSearchCV\n",
    "#grid_search = GridSearchCV(DecisionTreeClassifier(), param_grid, cv=5, scoring='f1', verbose=2, n_jobs = 4)\n",
    "\n",
    "# Εκπαίδευση με διασταυρούμενη επικύρωση\n",
    "#grid_search.fit(X_train, y_train)\n",
    "\n",
    "# Εκτύπωση των βέλτιστων υπερπαραμέτρων\n",
    "#print(\"\\nBEST HYPERPARAMETERS:\\n\", grid_search.best_params_)\n",
    "\n",
    "# Εκτύπωση της βέλτιστης F1 score\n",
    "#print(\"Best F1 Score: {:.4f}\".format(grid_search.best_score_))\n"
   ]
  },
  {
   "cell_type": "code",
   "execution_count": 31,
   "metadata": {},
   "outputs": [],
   "source": [
    "# Αποθήκευση των αποτελεσμάτων σε ένα CSV αρχείο\n",
    "#results_df = pd.DataFrame(grid_search.cv_results_)\n",
    "#results_df.to_csv('DT_results.csv', index=False)"
   ]
  },
  {
   "cell_type": "code",
   "execution_count": 32,
   "metadata": {
    "editable": true,
    "slideshow": {
     "slide_type": ""
    },
    "tags": []
   },
   "outputs": [
    {
     "name": "stdout",
     "output_type": "stream",
     "text": [
      "Fitting 5 folds for each of 1 candidates, totalling 5 fits\n",
      "\n",
      "BEST HYPERPARAMETERS:\n",
      " {'max_depth': 30, 'min_samples_leaf': 1, 'min_samples_split': 2, 'n_estimators': 200}\n",
      "Best F1 Score: 0.6119\n"
     ]
    }
   ],
   "source": [
    "# για το Random Forest\n",
    "from sklearn.metrics import make_scorer, f1_score\n",
    "# το εύρος των υπερπαραμέτρων\n",
    "param_grid = {\n",
    "    'n_estimators': [200],\n",
    "    'max_depth': [30],\n",
    "    'min_samples_split': [2],\n",
    "    'min_samples_leaf': [1]\n",
    "}\n",
    "\n",
    "# Δημιουργία του GridSearchCV\n",
    "grid_search = GridSearchCV(RandomForestClassifier(), param_grid, cv=5, scoring='f1', verbose=2, n_jobs = 4)\n",
    "\n",
    "# Εκπαίδευση με διασταυρούμενη επικύρωση\n",
    "grid_search.fit(X_train, y_train)\n",
    "\n",
    "# Εκτύπωση των βέλτιστων υπερπαραμέτρων\n",
    "print(\"\\nBEST HYPERPARAMETERS:\\n\", grid_search.best_params_)\n",
    "\n",
    "# Εκτύπωση της βέλτιστης F1 score\n",
    "print(\"Best F1 Score: {:.4f}\".format(grid_search.best_score_))\n"
   ]
  },
  {
   "cell_type": "code",
   "execution_count": 33,
   "metadata": {},
   "outputs": [],
   "source": [
    "# Αποθήκευση των αποτελεσμάτων σε ένα CSV αρχείο\n",
    "results_df = pd.DataFrame(grid_search.cv_results_)\n",
    "results_df.to_csv('RF_results.csv', index=False)"
   ]
  },
  {
   "cell_type": "code",
   "execution_count": null,
   "metadata": {},
   "outputs": [],
   "source": [
    "# Παρακάτω φαίνονται κάποια μεγαλύτερα parameter grids:\n",
    "\n",
    "# NB\n",
    "#param_grid = {\n",
    "#       'var_smoothing': [10,1,1e-4,1e-5,1e-6,1e-7,1e-8,1e-9,1e-10]\n",
    "#}\n",
    "\n",
    "# KNN\n",
    "#param_grid = {\n",
    " #                'n_neighbors': [5,8,10,15,20,30,50],\n",
    " #                'metric':['euclidean','manhattan']\n",
    "#}\n",
    "\n",
    "# LR\n",
    "#param_grid =  {\n",
    "#    'penalty' : ['l1', 'l2', 'elasticnet', 'none'],\n",
    " #   'C' : np.logspace(-4, 4, 20),\n",
    " #   'solver' : ['lbfgs','newton-cg','liblinear','sag','saga'],\n",
    " #   'max_iter' : [100, 1000,2500, 5000]\n",
    " #   }\n",
    "\n",
    "# MLP\n",
    "#param_grid = {\n",
    " #   'hidden_layer_sizes': [(10,30,10),(20,)],\n",
    " #   'activation': ['tanh', 'relu'],\n",
    " #   'solver': ['sgd', 'adam'],\n",
    " #   'alpha': [0.0001, 0.05],\n",
    " #   'learning_rate': ['constant','adaptive'],\n",
    "#}\n",
    "\n",
    "# SVC\n",
    "#param_grid = {\n",
    " #            'C': [1, 10, 100, 400, 1000]   \n",
    "#}\n",
    "\n",
    "# DT\n",
    "#param_grid = {\n",
    " #   'splitter': ['best', 'random'],\n",
    " #   'criterion': ['gini', 'entropy'],\n",
    " #   'max_features': ['log2', 'sqrt', 'auto'],\n",
    " #   'max_depth': [5, 10, 15, 20],  # Increase the range\n",
    " #   'min_samples_split': [5, 10, 15, 20],  # Increase the range\n",
    " #   'min_samples_leaf': [5, 10, 15, 20],  # Increase the range\n",
    " #   'random_state': [0, 1, 2, 3, 4, 5, 6, 7, 8, 9, 10, 42, 100]  # More random states\n",
    "#}\n",
    "\n",
    "# RF\n",
    "#grid = {\n",
    " #   'n_estimators': [100,200,300,400,500], \n",
    " #   'max_features': ['sqrt', 'log2'],\n",
    " #   'max_depth' : [None,4,5,6,7,8],\n",
    " #   'criterion' :['gini', 'entropy'],\n",
    " #   'random_state' : [18]\n",
    "#}"
   ]
  },
  {
   "cell_type": "markdown",
   "metadata": {
    "editable": true,
    "id": "KD2jGJgUloMW",
    "slideshow": {
     "slide_type": ""
    },
    "tags": []
   },
   "source": [
    "6.β. Εφαρμόστε στα εκπαιδευμένα μοντέλα από το validation set μόνο τα δείγματα χωρίς την ετικέτα τους (predict).\n"
   ]
  },
  {
   "cell_type": "code",
   "execution_count": 146,
   "metadata": {},
   "outputs": [
    {
     "name": "stdout",
     "output_type": "stream",
     "text": [
      "\n",
      "nb Classifier - FITTING DONE\n",
      "\n",
      "nb - PREDICTIONS MADE\n",
      "\n",
      "nb - SCORE\n",
      "\n",
      "              precision    recall  f1-score   support\n",
      "\n",
      "         0.0       0.85      0.94      0.89     11184\n",
      "         1.0       0.69      0.44      0.54      3343\n",
      "\n",
      "    accuracy                           0.83     14527\n",
      "   macro avg       0.77      0.69      0.72     14527\n",
      "weighted avg       0.81      0.83      0.81     14527\n",
      "\n"
     ]
    }
   ],
   "source": [
    "# NB\n",
    "from sklearn.metrics import classification_report\n",
    "\n",
    "best_nb_classifier = GaussianNB(var_smoothing=1) # ο ιδανικος NB\n",
    "best_nb_classifier.fit(X_train, y_train) \n",
    "print(\"\\nnb Classifier - FITTING DONE\")\n",
    "\n",
    "y_pred_nb = best_nb_classifier.predict(X_test)\n",
    "print(\"\\nnb - PREDICTIONS MADE\")\n",
    "\n",
    "# Evaluate mlp ########################################################################################################\n",
    "print('\\nnb - SCORE\\n')\n",
    "\n",
    "# compute the classification report\n",
    "print(classification_report(y_test, y_pred_nb))"
   ]
  },
  {
   "cell_type": "code",
   "execution_count": 35,
   "metadata": {},
   "outputs": [
    {
     "name": "stdout",
     "output_type": "stream",
     "text": [
      "\n",
      "knn Classifier - FITTING DONE\n",
      "\n",
      "knn - PREDICTIONS MADE\n",
      "\n",
      "knn - SCORE\n",
      "\n",
      "              precision    recall  f1-score   support\n",
      "\n",
      "         0.0       0.86      0.96      0.91     11184\n",
      "         1.0       0.76      0.48      0.59      3343\n",
      "\n",
      "    accuracy                           0.85     14527\n",
      "   macro avg       0.81      0.72      0.75     14527\n",
      "weighted avg       0.84      0.85      0.83     14527\n",
      "\n"
     ]
    }
   ],
   "source": [
    "# KNN\n",
    "from sklearn.metrics import classification_report\n",
    "\n",
    "best_knn_classifier = KNeighborsClassifier(n_neighbors = 20, weights = 'distance') # ο ιδανικος KNN\n",
    "best_knn_classifier.fit(X_train, y_train)\n",
    "print(\"\\nknn Classifier - FITTING DONE\")\n",
    "\n",
    "y_pred_knn = best_knn_classifier.predict(X_test)\n",
    "print(\"\\nknn - PREDICTIONS MADE\")\n",
    "\n",
    "# Evaluate knn ########################################################################################################\n",
    "print('\\nknn - SCORE\\n')\n",
    "\n",
    "# compute the classification report\n",
    "print(classification_report(y_test, y_pred_knn))"
   ]
  },
  {
   "cell_type": "code",
   "execution_count": 142,
   "metadata": {},
   "outputs": [
    {
     "name": "stdout",
     "output_type": "stream",
     "text": [
      "\n",
      "lr Classifier - FITTING DONE\n",
      "\n",
      "lr - PREDICTIONS MADE\n",
      "\n",
      "lr - SCORE\n",
      "\n",
      "              precision    recall  f1-score   support\n",
      "\n",
      "         0.0       0.87      0.95      0.91     11184\n",
      "         1.0       0.75      0.54      0.63      3343\n",
      "\n",
      "    accuracy                           0.85     14527\n",
      "   macro avg       0.81      0.74      0.77     14527\n",
      "weighted avg       0.84      0.85      0.84     14527\n",
      "\n"
     ]
    }
   ],
   "source": [
    "# LR\n",
    "from sklearn.metrics import classification_report\n",
    "\n",
    "best_lr_classifier = LogisticRegression(C=1000) # ο ιδανικος LR\n",
    "best_lr_classifier.fit(X_train, y_train)\n",
    "print(\"\\nlr Classifier - FITTING DONE\")\n",
    "\n",
    "y_pred_lr = best_lr_classifier.predict(X_test)\n",
    "print(\"\\nlr - PREDICTIONS MADE\")\n",
    "\n",
    "# Evaluate lr ########################################################################################################\n",
    "print('\\nlr - SCORE\\n')\n",
    "\n",
    "# compute the classification report\n",
    "print(classification_report(y_test, y_pred_lr))"
   ]
  },
  {
   "cell_type": "code",
   "execution_count": 122,
   "metadata": {
    "editable": true,
    "id": "ANPd125TloMW",
    "slideshow": {
     "slide_type": ""
    },
    "tags": []
   },
   "outputs": [
    {
     "name": "stdout",
     "output_type": "stream",
     "text": [
      "\n",
      "MLP Classifier - FITTING DONE\n",
      "\n",
      "MLP - PREDICTIONS MADE\n",
      "\n",
      "MLP - SCORE\n",
      "\n",
      "              precision    recall  f1-score   support\n",
      "\n",
      "         0.0       0.89      0.94      0.91     11184\n",
      "         1.0       0.74      0.61      0.67      3343\n",
      "\n",
      "    accuracy                           0.86     14527\n",
      "   macro avg       0.82      0.77      0.79     14527\n",
      "weighted avg       0.86      0.86      0.86     14527\n",
      "\n",
      "\n",
      "F1 Score for mlp on validation set: 0.6716\n"
     ]
    }
   ],
   "source": [
    "from sklearn.metrics import classification_report\n",
    "\n",
    "# MLP\n",
    "best_mlp_classifier = MLPClassifier(activation = 'tanh', alpha = 0.1, hidden_layer_sizes = (40,), learning_rate = 'adaptive', random_state=42) # ο ιδανικος MLP\n",
    "best_mlp_classifier.fit(X_train, y_train)\n",
    "print(\"\\nMLP Classifier - FITTING DONE\")\n",
    "\n",
    "y_pred_mlp = best_mlp_classifier.predict(X_test)\n",
    "print(\"\\nMLP - PREDICTIONS MADE\")\n",
    "\n",
    "# Evaluate mlp ########################################################################################################\n",
    "print('\\nMLP - SCORE\\n')\n",
    "\n",
    "# compute the classification report\n",
    "print(classification_report(y_test, y_pred_mlp))\n",
    "\n",
    "f1_mlp = f1_score(y_test, y_pred_mlp, average='binary')\n",
    "print(f'\\nF1 Score for mlp on validation set: {f1_mlp:.4f}')"
   ]
  },
  {
   "cell_type": "code",
   "execution_count": 38,
   "metadata": {},
   "outputs": [
    {
     "name": "stderr",
     "output_type": "stream",
     "text": [
      "C:\\Users\\User\\AppData\\Local\\Programs\\Python\\Python311\\Lib\\site-packages\\sklearn\\svm\\_classes.py:32: FutureWarning: The default value of `dual` will change from `True` to `'auto'` in 1.5. Set the value of `dual` explicitly to suppress the warning.\n",
      "  warnings.warn(\n"
     ]
    },
    {
     "name": "stdout",
     "output_type": "stream",
     "text": [
      "\n",
      "svc Classifier - FITTING DONE\n",
      "\n",
      "svc - PREDICTIONS MADE\n",
      "\n",
      "svc - SCORE\n",
      "\n",
      "              precision    recall  f1-score   support\n",
      "\n",
      "         0.0       0.87      0.95      0.91     11184\n",
      "         1.0       0.76      0.52      0.62      3343\n",
      "\n",
      "    accuracy                           0.85     14527\n",
      "   macro avg       0.81      0.74      0.76     14527\n",
      "weighted avg       0.84      0.85      0.84     14527\n",
      "\n"
     ]
    }
   ],
   "source": [
    "# LinearSVC\n",
    "from sklearn.metrics import classification_report\n",
    "\n",
    "best_svc_classifier = LinearSVC(C = 0.01) # ο ιδανικος SVC\n",
    "best_svc_classifier.fit(X_train, y_train)\n",
    "print(\"\\nsvc Classifier - FITTING DONE\")\n",
    "\n",
    "y_pred_svc = best_svc_classifier.predict(X_test)\n",
    "print(\"\\nsvc - PREDICTIONS MADE\")\n",
    "\n",
    "# Evaluate svc ########################################################################################################\n",
    "print('\\nsvc - SCORE\\n')\n",
    "\n",
    "# compute the classification report\n",
    "print(classification_report(y_test, y_pred_svc))"
   ]
  },
  {
   "cell_type": "code",
   "execution_count": 130,
   "metadata": {},
   "outputs": [
    {
     "name": "stdout",
     "output_type": "stream",
     "text": [
      "\n",
      "dt Classifier - FITTING DONE\n",
      "\n",
      "dt - PREDICTIONS MADE\n",
      "\n",
      "dt - SCORE\n",
      "\n",
      "              precision    recall  f1-score   support\n",
      "\n",
      "         0.0       0.87      0.93      0.90     11184\n",
      "         1.0       0.68      0.52      0.59      3343\n",
      "\n",
      "    accuracy                           0.83     14527\n",
      "   macro avg       0.78      0.72      0.74     14527\n",
      "weighted avg       0.82      0.83      0.83     14527\n",
      "\n"
     ]
    }
   ],
   "source": [
    "# DT\n",
    "from sklearn.metrics import classification_report\n",
    "\n",
    "best_dt_classifier = DecisionTreeClassifier(criterion = 'entropy', max_depth = 10, min_samples_leaf = 1, min_samples_split = 2, splitter = 'best') # ο ιδανικος DT\n",
    "best_dt_classifier.fit(X_train, y_train)\n",
    "print(\"\\ndt Classifier - FITTING DONE\")\n",
    "\n",
    "y_pred_dt = best_dt_classifier.predict(X_test)\n",
    "print(\"\\ndt - PREDICTIONS MADE\")\n",
    "\n",
    "# Evaluate dt ########################################################################################################\n",
    "print('\\ndt - SCORE\\n')\n",
    "\n",
    "# compute the classification report\n",
    "print(classification_report(y_test, y_pred_dt))"
   ]
  },
  {
   "cell_type": "code",
   "execution_count": 143,
   "metadata": {},
   "outputs": [
    {
     "name": "stdout",
     "output_type": "stream",
     "text": [
      "\n",
      "rf Classifier - FITTING DONE\n",
      "\n",
      "rf - PREDICTIONS MADE\n",
      "\n",
      "rf - SCORE\n",
      "\n",
      "              precision    recall  f1-score   support\n",
      "\n",
      "         0.0       0.87      0.96      0.91     11184\n",
      "         1.0       0.79      0.53      0.63      3343\n",
      "\n",
      "    accuracy                           0.86     14527\n",
      "   macro avg       0.83      0.74      0.77     14527\n",
      "weighted avg       0.85      0.86      0.85     14527\n",
      "\n"
     ]
    }
   ],
   "source": [
    "# RF\n",
    "from sklearn.metrics import classification_report\n",
    "\n",
    "best_rf_classifier = RandomForestClassifier(max_depth = 30, min_samples_leaf = 1, min_samples_split = 2, n_estimators = 200) # ο ιδανικος RF\n",
    "best_rf_classifier.fit(X_train, y_train)\n",
    "print(\"\\nrf Classifier - FITTING DONE\")\n",
    "\n",
    "y_pred_rf = best_rf_classifier.predict(X_test)\n",
    "print(\"\\nrf - PREDICTIONS MADE\")\n",
    "\n",
    "# Evaluate rf ########################################################################################################\n",
    "print('\\nrf - SCORE\\n')\n",
    "\n",
    "# compute the classification report\n",
    "print(classification_report(y_test, y_pred_rf))"
   ]
  },
  {
   "cell_type": "markdown",
   "metadata": {
    "editable": true,
    "id": "hj_7xTZ-loMW",
    "slideshow": {
     "slide_type": ""
    },
    "tags": []
   },
   "source": [
    "\n",
    "6.γ. Συγκρίνετε την έξοδο του κάθε μοντέλου σε σχέση με τις αντίστοιχες ετικέτες του validation set και αξιολογήστε την επιδοσή τους χρησιμοποιώντας το F1 score.\n"
   ]
  },
  {
   "cell_type": "code",
   "execution_count": 120,
   "metadata": {},
   "outputs": [],
   "source": [
    "# Έχει γίνει παραπάνω μαζί με το predict !"
   ]
  },
  {
   "cell_type": "markdown",
   "metadata": {
    "id": "l6vs5gOQloMW"
   },
   "source": [
    "6.δ.  Αξιολογήστε συνολικά την επίδοση των μοντέλων χρησιμοποιώντας κάποιο γράφημα (π.χ. ιστόγραμμα, bar plot) και σχολιάστε ποιο μοντέλο είχε την καλύτερη επίδοση.\n"
   ]
  },
  {
   "cell_type": "code",
   "execution_count": 147,
   "metadata": {
    "id": "EsAWlUCUloMX"
   },
   "outputs": [
    {
     "data": {
      "image/png": "[encoded data removed]",
      "text/plain": [
       "<Figure size 640x480 with 1 Axes>"
      ]
     },
     "metadata": {},
     "output_type": "display_data"
    }
   ],
   "source": [
    "import matplotlib.pyplot as plt\n",
    "from sklearn.metrics import f1_score\n",
    "\n",
    "# Define the classifiers and their predictions\n",
    "classifiers = ['Naive Bayes', 'KNN', 'Logistic Regression', 'MLP', 'Linear SVC', 'Decision Tree', 'Random Forest']\n",
    "predictions = [y_pred_nb, y_pred_knn, y_pred_lr, y_pred_mlp, y_pred_svc, y_pred_dt, y_pred_rf]\n",
    "\n",
    "# Calculate F1-score for each classifier\n",
    "f1_scores = [f1_score(y_test, y_pred) for y_pred in predictions]\n",
    "\n",
    "# Create a bar plot with smaller font size on the x-axis\n",
    "plt.bar(classifiers, f1_scores, color='green')\n",
    "plt.xlabel('Classifiers', fontsize=10)  # Set the fontsize to your desired value\n",
    "plt.ylabel('F1-Score')\n",
    "plt.title('F1-Score for Different Classifiers')\n",
    "plt.ylim(0, 1)  # Set y-axis limits between 0 and 1\n",
    "plt.xticks(rotation=45, ha='right')  # Rotate x-axis labels for better readability\n",
    "# Display F1-score values above the bars\n",
    "for i, score in enumerate(f1_scores):\n",
    "    plt.text(i, score + 0.02, f'{score:.3f}', ha='center', va='bottom')\n",
    "plt.show()\n"
   ]
  },
  {
   "cell_type": "markdown",
   "metadata": {
    "editable": true,
    "id": "DrWizICNmItV",
    "slideshow": {
     "slide_type": ""
    },
    "tags": []
   },
   "source": [
    "### 7. Προετοιμασία αρχείου για τη δεύτερη υποβολή στο kaggle"
   ]
  },
  {
   "cell_type": "markdown",
   "metadata": {
    "id": "GzoRElvAmItV"
   },
   "source": [
    "7.α. Χρησιμοποιήστε **ΜΟΝΟ** το μοντέλο σας με την καλύτερη επίδοση για να κάνετε προβλέψεις χρησιμοποιώντας το δοθέν σύνολο εκπαίδευσης (test set)"
   ]
  },
  {
   "cell_type": "code",
   "execution_count": 127,
   "metadata": {
    "editable": true,
    "id": "HlEBQIOnmItV",
    "slideshow": {
     "slide_type": ""
    },
    "tags": []
   },
   "outputs": [
    {
     "name": "stderr",
     "output_type": "stream",
     "text": [
      "C:\\Users\\User\\AppData\\Local\\Temp\\ipykernel_18204\\1934392551.py:5: UserWarning: Parsing dates in %d/%m/%Y format when dayfirst=False (the default) was specified. Pass `dayfirst=True` or specify a format to silence this warning.\n",
      "  X_test2['Date'] = pd.to_datetime(X_test2['Date'], dayfirst=False) # 'Date' to date-time format\n"
     ]
    },
    {
     "name": "stdout",
     "output_type": "stream",
     "text": [
      "\n",
      "PREPROCESSING DONE ON test.csv\n",
      "\n",
      "PREDICTIONS MADE ON test.csv\n"
     ]
    }
   ],
   "source": [
    "from sklearn.impute import KNNImputer\n",
    "X_test2 = pd.read_csv('test.csv')\n",
    "\n",
    "# morfopoihsh tou X_test2 wste na exei thn idia morfh me to X_test\n",
    "X_test2['Date'] = pd.to_datetime(X_test2['Date'], dayfirst=False) # 'Date' to date-time format\n",
    "X_test2['Month'] = X_test2['Date'].dt.month # change 'Date' to 'Month'\n",
    "X_test2.drop(['MinTemp','Temp9am','Date'], axis=1, inplace=True) # η συσχετιση σε σχεση με το RainTomorrow ειναι πολυ μικρη\n",
    "X_test2['AvgMaxTemp'] = X_test2[['MaxTemp', 'Temp3pm']].mean(axis=1) # κανω συνενωση το average των MaxTemp και Temp3pm\n",
    "X_test2.drop(['MaxTemp','Temp3pm'], axis=1, inplace=True) # σβηνω τα Temp3pm, MaxTemp, αρα μενει μονο το AvgMaxTemp\n",
    "\n",
    "# handle numeric features\n",
    "numeric_features = X_test2.select_dtypes(include=['number']).columns\n",
    "numeric_features = numeric_features.drop(['RainToday']) ############df.select_dtypes(include=['number']).columns\n",
    "#num_feat_to_be_transformed = df.loc[:, ~df.columns.isin(['RainToday', 'RainTomorrow'])]\n",
    "numeric_transformer = Pipeline(steps=[\n",
    "    ('imputer', KNNImputer())\n",
    "    ,('scaler', StandardScaler())])               # 3.δ) κλιμάκωση\n",
    "\n",
    "# handle categorical features\n",
    "categorical_features = X_test2.select_dtypes(include=['object']).columns\n",
    "categorical_transformer = Pipeline(steps=[\n",
    "    ('imputer', SimpleImputer(strategy='most_frequent')), # 3.β) ii) απουσιάζουσες τιμές\n",
    "    ('scaler', OneHotEncoder(handle_unknown='ignore'))])  # 3.γ) μετατροπή των κατηγορικών μεταβλητών\n",
    "\n",
    "# Create a transformer\n",
    "preprocessor = ColumnTransformer( # 3.ε)\n",
    "    transformers=[\n",
    "        ('num', numeric_transformer, numeric_features), ###################################\n",
    "        ('cat', categorical_transformer, categorical_features)]\n",
    "        , remainder='passthrough'  # Handle columns not specified in transformers\n",
    "    )\n",
    "\n",
    "# Fit and transform the data\n",
    "X_test2_transformed = preprocessor.fit_transform(X_test2) # 3.ε)\n",
    "\n",
    "# Retrieve feature names after transformation\n",
    "feature_names = preprocessor.get_feature_names_out()\n",
    "\n",
    "# Convert the sparse matrix to a DataFrame\n",
    "X_test2_transformed_dense = pd.DataFrame(X_test2_transformed.toarray(), columns=feature_names) # 3.ε)\n",
    "\n",
    "#y_test_pred_rf = rf_classifier.predict(X_test2_transformed_dense) #################################################### keep\n",
    "print(\"\\nPREPROCESSING DONE ON test.csv\")\n",
    "\n",
    "# do the predictions on X_test2_transformed_dense using the best classifier\n",
    "y_test_pred_mlp = best_mlp_classifier.predict(X_test2_transformed_dense)\n",
    "print(\"\\nPREDICTIONS MADE ON test.csv\")"
   ]
  },
  {
   "cell_type": "markdown",
   "metadata": {
    "id": "TA2fuBn9mItW"
   },
   "source": [
    "7.β. Αποθηκεύστε τις προβλέψεις από το καλύτερο μοντέλο σας σε ένα csv αρχείο. To csv αρχείο θα πρέπει να είναι περιέχει 2 στήλες: η πρώτη στήλη να περιέχει την στήλη id του test set file και η δεύτερη στήλη τις αντίστοιχες προβλέψεις που έκανε το καλύτερα εκπαιδευμένο μοντέλο σας (βήμα 7α)."
   ]
  },
  {
   "cell_type": "code",
   "execution_count": 126,
   "metadata": {
    "id": "9A1YaimKmItW"
   },
   "outputs": [
    {
     "name": "stdout",
     "output_type": "stream",
     "text": [
      "<class 'pandas.core.frame.DataFrame'>\n",
      "RangeIndex: 9699 entries, 0 to 9698\n",
      "Data columns (total 2 columns):\n",
      " #   Column        Non-Null Count  Dtype  \n",
      "---  ------        --------------  -----  \n",
      " 0   id            9699 non-null   int64  \n",
      " 1   RainTomorrow  9699 non-null   float64\n",
      "dtypes: float64(1), int64(1)\n",
      "memory usage: 151.7 KB\n"
     ]
    }
   ],
   "source": [
    "# Kaggle Score: 0.65123 (Position: 16/147)\n",
    "\n",
    "# 7β) Create a new DataFrame 'ID' with the 'RainTomorrow' column\n",
    "ID_df = pd.DataFrame({'id': range(1, len(y_test_pred_mlp) + 1), 'RainTomorrow': y_test_pred_mlp})\n",
    "\n",
    "ID_df.info()\n",
    "\n",
    "ID_df.to_csv('final_predictions_best_mlp.csv',index=False)"
   ]
  }
 ],
 "metadata": {
  "colab": {
   "provenance": []
  },
  "kernelspec": {
   "display_name": "Python 3 (ipykernel)",
   "language": "python",
   "name": "python3"
  },
  "language_info": {
   "codemirror_mode": {
    "name": "ipython",
    "version": 3
   },
   "file_extension": ".py",
   "mimetype": "text/x-python",
   "name": "python",
   "nbconvert_exporter": "python",
   "pygments_lexer": "ipython3",
   "version": "3.11.5"
  }
 },
 "nbformat": 4,
 "nbformat_minor": 4
}
